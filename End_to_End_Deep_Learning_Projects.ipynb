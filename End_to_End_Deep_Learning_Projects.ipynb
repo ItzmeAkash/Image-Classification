{
  "nbformat": 4,
  "nbformat_minor": 0,
  "metadata": {
    "colab": {
      "provenance": [],
      "gpuType": "T4"
    },
    "kernelspec": {
      "name": "python3",
      "display_name": "Python 3"
    },
    "language_info": {
      "name": "python"
    },
    "accelerator": "GPU"
  },
  "cells": [
    {
      "cell_type": "markdown",
      "source": [
        "# **Create Deep Learning Project from End to End Till Deployment For Beginners**"
      ],
      "metadata": {
        "id": "OhcnuhQV6GU7"
      }
    },
    {
      "cell_type": "markdown",
      "source": [
        "1. Create a Vgg19 Model for  Classifying Imagenet images\n",
        "\n",
        "2. Will Crate a Flask App to upload the image(Simple Html)\n",
        "\n",
        "3. Predict From the Flask App with the images that we upload"
      ],
      "metadata": {
        "id": "vp6Ozmzc6Pdh"
      }
    },
    {
      "cell_type": "code",
      "source": [
        "import tensorflow as tf\n",
        "from tensorflow.keras.applications.vgg19 import VGG19"
      ],
      "metadata": {
        "id": "BF5cA45o6h_Z"
      },
      "execution_count": 1,
      "outputs": []
    },
    {
      "cell_type": "code",
      "source": [
        "model=VGG19(weights=\"imagenet\") #Default"
      ],
      "metadata": {
        "colab": {
          "base_uri": "https://localhost:8080/"
        },
        "id": "IqnPSawC7ISF",
        "outputId": "74a27a97-a22b-4d03-f66f-032da5411fbb"
      },
      "execution_count": 2,
      "outputs": [
        {
          "output_type": "stream",
          "name": "stdout",
          "text": [
            "Downloading data from https://storage.googleapis.com/tensorflow/keras-applications/vgg19/vgg19_weights_tf_dim_ordering_tf_kernels.h5\n",
            "574710816/574710816 [==============================] - 6s 0us/step\n"
          ]
        }
      ]
    },
    {
      "cell_type": "code",
      "source": [
        "model.summary()"
      ],
      "metadata": {
        "id": "M3HRCR9R7mSh"
      },
      "execution_count": null,
      "outputs": []
    },
    {
      "cell_type": "code",
      "source": [
        "model.save('Vgg19.h5')"
      ],
      "metadata": {
        "colab": {
          "base_uri": "https://localhost:8080/"
        },
        "id": "CujbG03X7x5C",
        "outputId": "f2c653a5-870f-467d-9a69-23c9de2f65a5"
      },
      "execution_count": 5,
      "outputs": [
        {
          "output_type": "stream",
          "name": "stderr",
          "text": [
            "WARNING:tensorflow:Compiled the loaded model, but the compiled metrics have yet to be built. `model.compile_metrics` will be empty until you train or evaluate the model.\n"
          ]
        }
      ]
    },
    {
      "cell_type": "code",
      "source": [],
      "metadata": {
        "id": "ExlMkiKc7-Tp"
      },
      "execution_count": null,
      "outputs": []
    }
  ]
}